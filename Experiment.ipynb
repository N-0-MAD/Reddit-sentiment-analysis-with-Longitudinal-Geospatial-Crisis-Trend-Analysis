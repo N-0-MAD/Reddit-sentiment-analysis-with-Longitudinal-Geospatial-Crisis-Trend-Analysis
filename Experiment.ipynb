{
 "cells": [
  {
   "cell_type": "code",
   "execution_count": 1,
   "metadata": {},
   "outputs": [],
   "source": [
    "import tweepy\n",
    "import pandas as pd\n",
    "import re\n",
    "import emoji\n",
    "import nltk\n",
    "from nltk.corpus import stopwords\n",
    "import praw\n",
    "import pandas as pd\n",
    "import time"
   ]
  },
  {
   "cell_type": "code",
   "execution_count": 2,
   "metadata": {},
   "outputs": [],
   "source": [
    "import torch"
   ]
  },
  {
   "cell_type": "code",
   "execution_count": 3,
   "metadata": {},
   "outputs": [],
   "source": [
    "reddit_df = pd.read_csv(\"reddit_exp.csv\")"
   ]
  },
  {
   "cell_type": "code",
   "execution_count": 4,
   "metadata": {},
   "outputs": [],
   "source": [
    "import Preprocessing"
   ]
  },
  {
   "cell_type": "code",
   "execution_count": 5,
   "metadata": {},
   "outputs": [],
   "source": [
    "    reddit_df[\"Title\"] = reddit_df[\"Title\"].astype(str)\n",
    "    reddit_df[\"Content\"] = reddit_df[\"Content\"].astype(str)"
   ]
  },
  {
   "cell_type": "code",
   "execution_count": 6,
   "metadata": {},
   "outputs": [],
   "source": [
    "a = Preprocessing.preprocess_data(reddit_df)"
   ]
  },
  {
   "cell_type": "code",
   "execution_count": 7,
   "metadata": {},
   "outputs": [
    {
     "data": {
      "text/html": [
       "<div>\n",
       "<style scoped>\n",
       "    .dataframe tbody tr th:only-of-type {\n",
       "        vertical-align: middle;\n",
       "    }\n",
       "\n",
       "    .dataframe tbody tr th {\n",
       "        vertical-align: top;\n",
       "    }\n",
       "\n",
       "    .dataframe thead th {\n",
       "        text-align: right;\n",
       "    }\n",
       "</style>\n",
       "<table border=\"1\" class=\"dataframe\">\n",
       "  <thead>\n",
       "    <tr style=\"text-align: right;\">\n",
       "      <th></th>\n",
       "      <th>ID</th>\n",
       "      <th>Timestamp</th>\n",
       "      <th>Upvotes</th>\n",
       "      <th>Comments</th>\n",
       "      <th>URL</th>\n",
       "      <th>Cleaned_Title</th>\n",
       "      <th>Cleaned_Content</th>\n",
       "      <th>Combined_Text</th>\n",
       "    </tr>\n",
       "  </thead>\n",
       "  <tbody>\n",
       "    <tr>\n",
       "      <th>0</th>\n",
       "      <td>1j80hvh</td>\n",
       "      <td>1.741619e+09</td>\n",
       "      <td>2</td>\n",
       "      <td>8</td>\n",
       "      <td>/r/depression/comments/1j80hvh/acceptance_stage/</td>\n",
       "      <td>acceptance stage</td>\n",
       "      <td>ive struggled depression since mids im rare go...</td>\n",
       "      <td>acceptance stage ive struggled depression sinc...</td>\n",
       "    </tr>\n",
       "    <tr>\n",
       "      <th>1</th>\n",
       "      <td>1j7uydu</td>\n",
       "      <td>1.741600e+09</td>\n",
       "      <td>1</td>\n",
       "      <td>0</td>\n",
       "      <td>/r/depression/comments/1j7uydu/failing_backwar...</td>\n",
       "      <td>failing backwards struggle depression loss sur...</td>\n",
       "      <td>years old past three months ive woken every mo...</td>\n",
       "      <td>failing backwards struggle depression loss sur...</td>\n",
       "    </tr>\n",
       "    <tr>\n",
       "      <th>2</th>\n",
       "      <td>1j801iz</td>\n",
       "      <td>1.741617e+09</td>\n",
       "      <td>2</td>\n",
       "      <td>8</td>\n",
       "      <td>/r/depression/comments/1j801iz/how_to_overcome...</td>\n",
       "      <td>overcome depression</td>\n",
       "      <td>im tired hopeless sad diagnosed depression sti...</td>\n",
       "      <td>overcome depression im tired hopeless sad diag...</td>\n",
       "    </tr>\n",
       "    <tr>\n",
       "      <th>3</th>\n",
       "      <td>1j7zrlo</td>\n",
       "      <td>1.741617e+09</td>\n",
       "      <td>2</td>\n",
       "      <td>0</td>\n",
       "      <td>/r/depression/comments/1j7zrlo/keep_getting_mo...</td>\n",
       "      <td>keep getting depressed need encouragement please</td>\n",
       "      <td>hey thanks reading needed somewhere vent moved...</td>\n",
       "      <td>keep getting depressed need encouragement plea...</td>\n",
       "    </tr>\n",
       "    <tr>\n",
       "      <th>4</th>\n",
       "      <td>1j7zh7l</td>\n",
       "      <td>1.741616e+09</td>\n",
       "      <td>1</td>\n",
       "      <td>0</td>\n",
       "      <td>/r/depression/comments/1j7zh7l/numb/</td>\n",
       "      <td>numb</td>\n",
       "      <td>feel numb time feel sad friends dont ever talk...</td>\n",
       "      <td>numb feel numb time feel sad friends dont ever...</td>\n",
       "    </tr>\n",
       "    <tr>\n",
       "      <th>...</th>\n",
       "      <td>...</td>\n",
       "      <td>...</td>\n",
       "      <td>...</td>\n",
       "      <td>...</td>\n",
       "      <td>...</td>\n",
       "      <td>...</td>\n",
       "      <td>...</td>\n",
       "      <td>...</td>\n",
       "    </tr>\n",
       "    <tr>\n",
       "      <th>1844</th>\n",
       "      <td>1j58l3b</td>\n",
       "      <td>1.741302e+09</td>\n",
       "      <td>1</td>\n",
       "      <td>2</td>\n",
       "      <td>/r/SuicideWatch/comments/1j58l3b/i_lost_myself/</td>\n",
       "      <td>lost</td>\n",
       "      <td>boyfriend loves whole heart im suicial make th...</td>\n",
       "      <td>lost boyfriend loves whole heart im suicial ma...</td>\n",
       "    </tr>\n",
       "    <tr>\n",
       "      <th>1845</th>\n",
       "      <td>1j583a7</td>\n",
       "      <td>1.741300e+09</td>\n",
       "      <td>2</td>\n",
       "      <td>1</td>\n",
       "      <td>/r/SuicideWatch/comments/1j583a7/melodramatic_...</td>\n",
       "      <td>melodramatic thoughts alternate realities</td>\n",
       "      <td>one favorite movies everything everywhere real...</td>\n",
       "      <td>melodramatic thoughts alternate realities one ...</td>\n",
       "    </tr>\n",
       "    <tr>\n",
       "      <th>1846</th>\n",
       "      <td>1j57w3j</td>\n",
       "      <td>1.741300e+09</td>\n",
       "      <td>3</td>\n",
       "      <td>2</td>\n",
       "      <td>/r/SuicideWatch/comments/1j57w3j/im_a_horrible...</td>\n",
       "      <td>im horrible person deserve die</td>\n",
       "      <td>im f im starting realize big problem im bitch ...</td>\n",
       "      <td>im horrible person deserve die im f im startin...</td>\n",
       "    </tr>\n",
       "    <tr>\n",
       "      <th>1847</th>\n",
       "      <td>1j57svs</td>\n",
       "      <td>1.741299e+09</td>\n",
       "      <td>2</td>\n",
       "      <td>2</td>\n",
       "      <td>/r/SuicideWatch/comments/1j57svs/i_feel_trapped/</td>\n",
       "      <td>feel trapped</td>\n",
       "      <td>dont know else go ive burnt online friends men...</td>\n",
       "      <td>feel trapped dont know else go ive burnt onlin...</td>\n",
       "    </tr>\n",
       "    <tr>\n",
       "      <th>1848</th>\n",
       "      <td>1j57rki</td>\n",
       "      <td>1.741299e+09</td>\n",
       "      <td>3</td>\n",
       "      <td>1</td>\n",
       "      <td>/r/SuicideWatch/comments/1j57rki/i_did_it_i_ki...</td>\n",
       "      <td>killed mentally</td>\n",
       "      <td>im depressed long amount time images bullet go...</td>\n",
       "      <td>killed mentally im depressed long amount time ...</td>\n",
       "    </tr>\n",
       "  </tbody>\n",
       "</table>\n",
       "<p>1827 rows × 8 columns</p>\n",
       "</div>"
      ],
      "text/plain": [
       "           ID     Timestamp  Upvotes  Comments  \\\n",
       "0     1j80hvh  1.741619e+09        2         8   \n",
       "1     1j7uydu  1.741600e+09        1         0   \n",
       "2     1j801iz  1.741617e+09        2         8   \n",
       "3     1j7zrlo  1.741617e+09        2         0   \n",
       "4     1j7zh7l  1.741616e+09        1         0   \n",
       "...       ...           ...      ...       ...   \n",
       "1844  1j58l3b  1.741302e+09        1         2   \n",
       "1845  1j583a7  1.741300e+09        2         1   \n",
       "1846  1j57w3j  1.741300e+09        3         2   \n",
       "1847  1j57svs  1.741299e+09        2         2   \n",
       "1848  1j57rki  1.741299e+09        3         1   \n",
       "\n",
       "                                                    URL  \\\n",
       "0      /r/depression/comments/1j80hvh/acceptance_stage/   \n",
       "1     /r/depression/comments/1j7uydu/failing_backwar...   \n",
       "2     /r/depression/comments/1j801iz/how_to_overcome...   \n",
       "3     /r/depression/comments/1j7zrlo/keep_getting_mo...   \n",
       "4                  /r/depression/comments/1j7zh7l/numb/   \n",
       "...                                                 ...   \n",
       "1844    /r/SuicideWatch/comments/1j58l3b/i_lost_myself/   \n",
       "1845  /r/SuicideWatch/comments/1j583a7/melodramatic_...   \n",
       "1846  /r/SuicideWatch/comments/1j57w3j/im_a_horrible...   \n",
       "1847   /r/SuicideWatch/comments/1j57svs/i_feel_trapped/   \n",
       "1848  /r/SuicideWatch/comments/1j57rki/i_did_it_i_ki...   \n",
       "\n",
       "                                          Cleaned_Title  \\\n",
       "0                                      acceptance stage   \n",
       "1     failing backwards struggle depression loss sur...   \n",
       "2                                   overcome depression   \n",
       "3      keep getting depressed need encouragement please   \n",
       "4                                                  numb   \n",
       "...                                                 ...   \n",
       "1844                                               lost   \n",
       "1845          melodramatic thoughts alternate realities   \n",
       "1846                     im horrible person deserve die   \n",
       "1847                                       feel trapped   \n",
       "1848                                    killed mentally   \n",
       "\n",
       "                                        Cleaned_Content  \\\n",
       "0     ive struggled depression since mids im rare go...   \n",
       "1     years old past three months ive woken every mo...   \n",
       "2     im tired hopeless sad diagnosed depression sti...   \n",
       "3     hey thanks reading needed somewhere vent moved...   \n",
       "4     feel numb time feel sad friends dont ever talk...   \n",
       "...                                                 ...   \n",
       "1844  boyfriend loves whole heart im suicial make th...   \n",
       "1845  one favorite movies everything everywhere real...   \n",
       "1846  im f im starting realize big problem im bitch ...   \n",
       "1847  dont know else go ive burnt online friends men...   \n",
       "1848  im depressed long amount time images bullet go...   \n",
       "\n",
       "                                          Combined_Text  \n",
       "0     acceptance stage ive struggled depression sinc...  \n",
       "1     failing backwards struggle depression loss sur...  \n",
       "2     overcome depression im tired hopeless sad diag...  \n",
       "3     keep getting depressed need encouragement plea...  \n",
       "4     numb feel numb time feel sad friends dont ever...  \n",
       "...                                                 ...  \n",
       "1844  lost boyfriend loves whole heart im suicial ma...  \n",
       "1845  melodramatic thoughts alternate realities one ...  \n",
       "1846  im horrible person deserve die im f im startin...  \n",
       "1847  feel trapped dont know else go ive burnt onlin...  \n",
       "1848  killed mentally im depressed long amount time ...  \n",
       "\n",
       "[1827 rows x 8 columns]"
      ]
     },
     "execution_count": 7,
     "metadata": {},
     "output_type": "execute_result"
    }
   ],
   "source": [
    "a"
   ]
  },
  {
   "cell_type": "code",
   "execution_count": 8,
   "metadata": {},
   "outputs": [
    {
     "name": "stderr",
     "output_type": "stream",
     "text": [
      "C:\\Users\\Dines\\anaconda3\\envs\\new_env_name\\Lib\\site-packages\\tqdm\\auto.py:21: TqdmWarning: IProgress not found. Please update jupyter and ipywidgets. See https://ipywidgets.readthedocs.io/en/stable/user_install.html\n",
      "  from .autonotebook import tqdm as notebook_tqdm\n"
     ]
    }
   ],
   "source": [
    "import classify_post"
   ]
  },
  {
   "cell_type": "code",
   "execution_count": 9,
   "metadata": {},
   "outputs": [
    {
     "name": "stderr",
     "output_type": "stream",
     "text": [
      "[nltk_data] Downloading package vader_lexicon to\n",
      "[nltk_data]     C:\\Users\\Dines\\AppData\\Roaming\\nltk_data...\n",
      "[nltk_data]   Package vader_lexicon is already up-to-date!\n"
     ]
    },
    {
     "data": {
      "text/plain": [
       "True"
      ]
     },
     "execution_count": 9,
     "metadata": {},
     "output_type": "execute_result"
    }
   ],
   "source": [
    "nltk.download('vader_lexicon')"
   ]
  },
  {
   "cell_type": "code",
   "execution_count": 10,
   "metadata": {},
   "outputs": [
    {
     "name": "stderr",
     "output_type": "stream",
     "text": [
      "C:\\Users\\Dines\\Ai crisis detection\\classify_post.py:84: FutureWarning: \n",
      "\n",
      "Passing `palette` without assigning `hue` is deprecated and will be removed in v0.14.0. Assign the `x` variable to `hue` and set `legend=False` for the same effect.\n",
      "\n",
      "  sns.countplot(data=posts_df, x='Sentiment', palette=\"Set2\")\n"
     ]
    },
    {
     "data": {
      "image/png": "[encoded data removed]",
      "text/plain": [
       "<Figure size 800x600 with 1 Axes>"
      ]
     },
     "metadata": {},
     "output_type": "display_data"
    },
    {
     "name": "stderr",
     "output_type": "stream",
     "text": [
      "C:\\Users\\Dines\\Ai crisis detection\\classify_post.py:92: FutureWarning: \n",
      "\n",
      "Passing `palette` without assigning `hue` is deprecated and will be removed in v0.14.0. Assign the `x` variable to `hue` and set `legend=False` for the same effect.\n",
      "\n",
      "  sns.countplot(data=posts_df, x='Risk_Level', palette=\"coolwarm\")\n"
     ]
    },
    {
     "data": {
      "image/png": "[encoded data removed]",
      "text/plain": [
       "<Figure size 800x600 with 1 Axes>"
      ]
     },
     "metadata": {},
     "output_type": "display_data"
    }
   ],
   "source": [
    "new_df= classify_post.process_and_visualize(a)"
   ]
  },
  {
   "cell_type": "code",
   "execution_count": 11,
   "metadata": {},
   "outputs": [],
   "source": [
    "new_df.to_csv(\"classified_risk_levels.csv\", index=False)"
   ]
  },
  {
   "cell_type": "code",
   "execution_count": 13,
   "metadata": {},
   "outputs": [
    {
     "name": "stdout",
     "output_type": "stream",
     "text": [
      "\u001b[38;5;2m✔ Download and installation successful\u001b[0m\n",
      "You can now load the package via spacy.load('en_core_web_sm')\n",
      "\u001b[38;5;3m⚠ Restart to reload dependencies\u001b[0m\n",
      "If you are in a Jupyter or Colab notebook, you may need to restart Python in\n",
      "order to load all the package's dependencies. You can do this by selecting the\n",
      "'Restart kernel' or 'Restart runtime' option.\n"
     ]
    },
    {
     "name": "stderr",
     "output_type": "stream",
     "text": [
      "[nltk_data] Downloading package punkt_tab to\n",
      "[nltk_data]     C:\\Users\\Dines\\AppData\\Roaming\\nltk_data...\n",
      "[nltk_data]   Package punkt_tab is already up-to-date!\n"
     ]
    },
    {
     "name": "stdout",
     "output_type": "stream",
     "text": [
      "\u001b[38;5;2m✔ Download and installation successful\u001b[0m\n",
      "You can now load the package via spacy.load('en_core_web_sm')\n",
      "\u001b[38;5;3m⚠ Restart to reload dependencies\u001b[0m\n",
      "If you are in a Jupyter or Colab notebook, you may need to restart Python in\n",
      "order to load all the package's dependencies. You can do this by selecting the\n",
      "'Restart kernel' or 'Restart runtime' option.\n"
     ]
    },
    {
     "name": "stderr",
     "output_type": "stream",
     "text": [
      "[nltk_data] Downloading package punkt_tab to\n",
      "[nltk_data]     C:\\Users\\Dines\\AppData\\Roaming\\nltk_data...\n",
      "[nltk_data]   Package punkt_tab is already up-to-date!\n"
     ]
    },
    {
     "data": {
      "text/plain": [
       "<module 'crisis_geolocation' from 'C:\\\\Users\\\\Dines\\\\Ai crisis detection\\\\crisis_geolocation.py'>"
      ]
     },
     "execution_count": 13,
     "metadata": {},
     "output_type": "execute_result"
    }
   ],
   "source": [
    "import importlib\n",
    "import crisis_geolocation\n",
    "\n",
    "importlib.reload(crisis_geolocation)  # Force reload\n"
   ]
  },
  {
   "cell_type": "code",
   "execution_count": 14,
   "metadata": {},
   "outputs": [
    {
     "name": "stdout",
     "output_type": "stream",
     "text": [
      "**Top 5 Crisis Locations:**\n",
      " South Carolina, United States: 3 mentions\n",
      " United States: 3 mentions\n",
      " Phobia, 127, Rue Jeanne d'Arc, Quartier de la Salpêtrière, Paris 13e Arrondissement, Paris, France métropolitaine, 75013, France: 2 mentions\n",
      " Alabama, United States: 1 mentions\n",
      " Texas, United States: 1 mentions\n",
      "Heatmap saved as crisis_heatmap.html\n",
      "<folium.folium.Map object at 0x000001FE029B1F90>\n"
     ]
    }
   ],
   "source": [
    "from crisis_geolocation import generate_crisis_heatmap\n",
    "\n",
    "crisis_geolocation.generate_crisis_heatmap(new_df)"
   ]
  },
  {
   "cell_type": "code",
   "execution_count": null,
   "metadata": {},
   "outputs": [],
   "source": []
  }
 ],
 "metadata": {
  "kernelspec": {
   "display_name": "Python 3 (ipykernel)",
   "language": "python",
   "name": "python3"
  },
  "language_info": {
   "codemirror_mode": {
    "name": "ipython",
    "version": 3
   },
   "file_extension": ".py",
   "mimetype": "text/x-python",
   "name": "python",
   "nbconvert_exporter": "python",
   "pygments_lexer": "ipython3",
   "version": "3.11.10"
  }
 },
 "nbformat": 4,
 "nbformat_minor": 4
}
