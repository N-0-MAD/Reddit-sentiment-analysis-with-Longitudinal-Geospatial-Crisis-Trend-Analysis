{
 "cells": [
  {
   "cell_type": "code",
   "execution_count": 3,
   "id": "71355f62-6b6b-4f80-84d3-f1b6876184b5",
   "metadata": {},
   "outputs": [],
   "source": [
    "import tweepy\n",
    "import pandas as pd\n",
    "import re\n",
    "import emoji\n",
    "import nltk\n",
    "from nltk.corpus import stopwords\n",
    "import praw\n",
    "import pandas as pd\n",
    "import time"
   ]
  },
  {
   "cell_type": "code",
   "execution_count": 2,
   "id": "0640ce78-4f6e-4284-b0b4-427e51e6f94a",
   "metadata": {},
   "outputs": [
    {
     "name": "stderr",
     "output_type": "stream",
     "text": [
      "[nltk_data] Downloading package stopwords to\n",
      "[nltk_data]     C:\\Users\\Dines\\AppData\\Roaming\\nltk_data...\n",
      "[nltk_data]   Package stopwords is already up-to-date!\n"
     ]
    }
   ],
   "source": [
    "nltk.download(\"stopwords\")\n",
    "STOPWORDS = set(stopwords.words(\"english\"))\n",
    "reddit = praw.Reddit(\n",
    "    client_id=\"5JisFOzxeGOQl8Uzp8u7oQ\",\n",
    "    client_secret=\"oUbmu86OO-NtBM5m24U7QsYlR2cmaQ\",\n",
    "    user_agent=\"MyRedditBot/1.0 (by u/YourRedditUsername)\"\n",
    ")\n",
    "SUBREDDITS = [\"depression\", \"mentalhealth\", \"addiction\", \"suicidewatch\"]\n",
    "KEYWORDS = [\"depressed\", \"hopeless\", \"numb\", \"empty\", \"worthless\", \"suicidal\", \n",
    "            \"want to die\", \"can't go on\", \"self-harm\", \"overwhelmed\", \n",
    "            \"anxious\", \"panic attack\", \"lost\", \"addiction\", \"withdrawal\", \n",
    "            \"relapse\", \"need help\"]\n",
    "\n",
    "\n",
    "posts = []\n",
    "post_count = 0\n",
    "batch_size = 300 \n",
    "\n",
    "for subreddit in SUBREDDITS:\n",
    "    for post in reddit.subreddit(subreddit).new(limit=1000):  \n",
    "        \n",
    "        if any(keyword in post.title.lower() or keyword in post.selftext.lower() for keyword in KEYWORDS):\n",
    "            posts.append([\n",
    "                post.id, post.created_utc, post.title, post.selftext, \n",
    "                post.score, post.num_comments, post.permalink\n",
    "            ])\n",
    "            post_count += 1\n",
    "\n",
    "       \n",
    "        if post_count >= 20000:\n",
    "            break\n",
    "    \n",
    "    if post_count >= 20000:\n",
    "        break \n",
    "\n",
    "    time.sleep(5)\n",
    "\n",
    "\n",
    "reddit_df = pd.DataFrame(posts, columns=[\"ID\", \"Timestamp\", \"Title\", \"Content\", \"Upvotes\", \"Comments\", \"URL\"])\n",
    "\n",
    "\n",
    "def clean_text(text):\n",
    "    text = text.lower()\n",
    "    text = emoji.demojize(text)  \n",
    "    text = re.sub(r\"http\\S+|www\\S+\", \"<URL>\", text)  \n",
    "    text = re.sub(r\"[^a-zA-Z\\s]\", \"\", text)  \n",
    "    text = \" \".join(word for word in text.split() if word not in STOPWORDS) \n",
    "    return text\n",
    "\n",
    "reddit_df[\"Cleaned_Title\"] = reddit_df[\"Title\"].apply(clean_text)\n",
    "reddit_df[\"Cleaned_Content\"] = reddit_df[\"Content\"].apply(clean_text)\n",
    "\n",
    "file_path = \"reddit_crisis_posts_final.csv\"\n",
    "reddit_df.to_csv(file_path, index=False)"
   ]
  },
  {
   "cell_type": "code",
   "execution_count": 4,
   "id": "5140bd61-8b7b-4ab4-b307-bc5302a078bd",
   "metadata": {},
   "outputs": [],
   "source": [
    "df = pd.read_csv(\"reddit_crisis_posts_final.csv\")"
   ]
  },
  {
   "cell_type": "code",
   "execution_count": 5,
   "id": "5c225668-8c52-49ae-a7bf-289f78581609",
   "metadata": {},
   "outputs": [
    {
     "data": {
      "text/plain": [
       "Index(['ID', 'Timestamp', 'Title', 'Content', 'Upvotes', 'Comments', 'URL',\n",
       "       'Cleaned_Title', 'Cleaned_Content'],\n",
       "      dtype='object')"
      ]
     },
     "execution_count": 5,
     "metadata": {},
     "output_type": "execute_result"
    }
   ],
   "source": [
    "df.columns"
   ]
  },
  {
   "cell_type": "code",
   "execution_count": 6,
   "id": "29a7350a-3cbe-4f37-ac50-2715256aef59",
   "metadata": {},
   "outputs": [],
   "source": [
    "df=df.drop(columns=['Content','Title','URL'])"
   ]
  },
  {
   "cell_type": "code",
   "execution_count": 7,
   "id": "369439a9-ca73-4655-b9b7-b62c3849782d",
   "metadata": {},
   "outputs": [
    {
     "data": {
      "text/html": [
       "<div>\n",
       "<style scoped>\n",
       "    .dataframe tbody tr th:only-of-type {\n",
       "        vertical-align: middle;\n",
       "    }\n",
       "\n",
       "    .dataframe tbody tr th {\n",
       "        vertical-align: top;\n",
       "    }\n",
       "\n",
       "    .dataframe thead th {\n",
       "        text-align: right;\n",
       "    }\n",
       "</style>\n",
       "<table border=\"1\" class=\"dataframe\">\n",
       "  <thead>\n",
       "    <tr style=\"text-align: right;\">\n",
       "      <th></th>\n",
       "      <th>ID</th>\n",
       "      <th>Timestamp</th>\n",
       "      <th>Upvotes</th>\n",
       "      <th>Comments</th>\n",
       "      <th>Cleaned_Title</th>\n",
       "      <th>Cleaned_Content</th>\n",
       "    </tr>\n",
       "  </thead>\n",
       "  <tbody>\n",
       "    <tr>\n",
       "      <th>0</th>\n",
       "      <td>1j6gtbu</td>\n",
       "      <td>1.741439e+09</td>\n",
       "      <td>1</td>\n",
       "      <td>0</td>\n",
       "      <td>depressed lazy</td>\n",
       "      <td>got sick overnight hate life motivation anythi...</td>\n",
       "    </tr>\n",
       "    <tr>\n",
       "      <th>1</th>\n",
       "      <td>1j6gd5v</td>\n",
       "      <td>1.741438e+09</td>\n",
       "      <td>1</td>\n",
       "      <td>0</td>\n",
       "      <td>broke front tooth years braces making depressed</td>\n",
       "      <td>treated braces childhood teeth returned old st...</td>\n",
       "    </tr>\n",
       "    <tr>\n",
       "      <th>2</th>\n",
       "      <td>1j6gbtr</td>\n",
       "      <td>1.741438e+09</td>\n",
       "      <td>2</td>\n",
       "      <td>0</td>\n",
       "      <td>trapped</td>\n",
       "      <td>feel trapped im allowed sad tell stop feel alo...</td>\n",
       "    </tr>\n",
       "    <tr>\n",
       "      <th>3</th>\n",
       "      <td>1j6gaje</td>\n",
       "      <td>1.741437e+09</td>\n",
       "      <td>3</td>\n",
       "      <td>1</td>\n",
       "      <td>taste longer exists</td>\n",
       "      <td>hi everyone little quick context year old mtf ...</td>\n",
       "    </tr>\n",
       "    <tr>\n",
       "      <th>4</th>\n",
       "      <td>1j6f3dt</td>\n",
       "      <td>1.741433e+09</td>\n",
       "      <td>1</td>\n",
       "      <td>1</td>\n",
       "      <td>feel like im burning inside im tired</td>\n",
       "      <td>feel severely depressed since woke everything ...</td>\n",
       "    </tr>\n",
       "  </tbody>\n",
       "</table>\n",
       "</div>"
      ],
      "text/plain": [
       "        ID     Timestamp  Upvotes  Comments  \\\n",
       "0  1j6gtbu  1.741439e+09        1         0   \n",
       "1  1j6gd5v  1.741438e+09        1         0   \n",
       "2  1j6gbtr  1.741438e+09        2         0   \n",
       "3  1j6gaje  1.741437e+09        3         1   \n",
       "4  1j6f3dt  1.741433e+09        1         1   \n",
       "\n",
       "                                     Cleaned_Title  \\\n",
       "0                                   depressed lazy   \n",
       "1  broke front tooth years braces making depressed   \n",
       "2                                          trapped   \n",
       "3                              taste longer exists   \n",
       "4             feel like im burning inside im tired   \n",
       "\n",
       "                                     Cleaned_Content  \n",
       "0  got sick overnight hate life motivation anythi...  \n",
       "1  treated braces childhood teeth returned old st...  \n",
       "2  feel trapped im allowed sad tell stop feel alo...  \n",
       "3  hi everyone little quick context year old mtf ...  \n",
       "4  feel severely depressed since woke everything ...  "
      ]
     },
     "execution_count": 7,
     "metadata": {},
     "output_type": "execute_result"
    }
   ],
   "source": [
    "df.head()"
   ]
  },
  {
   "cell_type": "code",
   "execution_count": 8,
   "id": "defa15cb-3649-47df-91a3-180d3f4e347d",
   "metadata": {},
   "outputs": [
    {
     "data": {
      "text/plain": [
       "ID                 15\n",
       "Timestamp          15\n",
       "Upvotes            15\n",
       "Comments           15\n",
       "Cleaned_Title      15\n",
       "Cleaned_Content    14\n",
       "dtype: int64"
      ]
     },
     "execution_count": 8,
     "metadata": {},
     "output_type": "execute_result"
    }
   ],
   "source": [
    "df[df[\"Upvotes\"]>100].count()"
   ]
  },
  {
   "cell_type": "code",
   "execution_count": 10,
   "id": "c3e2c46e-d5b2-4c85-b4e4-9be7e3a552a0",
   "metadata": {},
   "outputs": [
    {
     "data": {
      "text/plain": [
       "(1864, 6)"
      ]
     },
     "execution_count": 10,
     "metadata": {},
     "output_type": "execute_result"
    }
   ],
   "source": [
    "df.shape"
   ]
  },
  {
   "cell_type": "code",
   "execution_count": 12,
   "id": "6b31dac6-5cb2-405a-aaa2-b9b3c20b9e6d",
   "metadata": {},
   "outputs": [
    {
     "data": {
      "text/plain": [
       "(1844, 6)"
      ]
     },
     "execution_count": 12,
     "metadata": {},
     "output_type": "execute_result"
    }
   ],
   "source": [
    "df = df.drop_duplicates(subset=[\"Cleaned_Title\", \"Cleaned_Content\"], keep=\"first\")\n",
    "df.shape"
   ]
  },
  {
   "cell_type": "code",
   "execution_count": 13,
   "id": "849e35e2-c3f2-4970-9ecb-b14bb1bc31ea",
   "metadata": {},
   "outputs": [
    {
     "data": {
      "text/plain": [
       "ID                  0\n",
       "Timestamp           0\n",
       "Upvotes             0\n",
       "Comments            0\n",
       "Cleaned_Title       9\n",
       "Cleaned_Content    11\n",
       "dtype: int64"
      ]
     },
     "execution_count": 13,
     "metadata": {},
     "output_type": "execute_result"
    }
   ],
   "source": [
    "df.isnull().sum()"
   ]
  },
  {
   "cell_type": "code",
   "execution_count": 14,
   "id": "846a1b69-f36d-476f-ad55-3499a4497797",
   "metadata": {},
   "outputs": [],
   "source": [
    "df = df.dropna(subset=[\"Cleaned_Title\", \"Cleaned_Content\"])\n"
   ]
  },
  {
   "cell_type": "code",
   "execution_count": 15,
   "id": "f2abe6c6-7366-4bf3-8b18-820eea79a3e7",
   "metadata": {},
   "outputs": [
    {
     "data": {
      "text/plain": [
       "(1824, 6)"
      ]
     },
     "execution_count": 15,
     "metadata": {},
     "output_type": "execute_result"
    }
   ],
   "source": [
    "df.shape"
   ]
  },
  {
   "cell_type": "code",
   "execution_count": 16,
   "id": "6fa1f895-4ba9-43c9-9b7f-c0b32305796d",
   "metadata": {},
   "outputs": [],
   "source": [
    "df[\"Timestamp\"] = pd.to_datetime(df[\"Timestamp\"], unit=\"s\")\n"
   ]
  },
  {
   "cell_type": "code",
   "execution_count": null,
   "id": "13ed26bf-9f2b-4ce7-88b3-b506bbf6c30f",
   "metadata": {},
   "outputs": [],
   "source": [
    "df.to_csv(\"Cleaned_dataset\")"
   ]
  }
 ],
 "metadata": {
  "kernelspec": {
   "display_name": "Python 3 (ipykernel)",
   "language": "python",
   "name": "python3"
  },
  "language_info": {
   "codemirror_mode": {
    "name": "ipython",
    "version": 3
   },
   "file_extension": ".py",
   "mimetype": "text/x-python",
   "name": "python",
   "nbconvert_exporter": "python",
   "pygments_lexer": "ipython3",
   "version": "3.11.10"
  }
 },
 "nbformat": 4,
 "nbformat_minor": 5
}
